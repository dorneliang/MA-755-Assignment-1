{
 "cells": [
  {
   "cell_type": "markdown",
   "metadata": {},
   "source": [
    "# MA 755 - Assignment 1\n",
    "\n",
    "by Neha, Katrina, Chengdong"
   ]
  },
  {
   "cell_type": "markdown",
   "metadata": {},
   "source": [
    "## **1. Get the data**\n",
    "    1. Set up the working directory\n",
    "    2. Download and unzip the data file\n",
    "    3. Take a quick look at the data structure\n",
    "    4. Create a train set and a test set\n",
    "  \n",
    "## **2. Data discovery and visualisation**\n",
    "    1. Scatter plot, box plot and histogram\n",
    "    2. Examine the correlation\n",
    "    3. Try attribute combinations\n",
    "\n",
    "## **3. Prepare the data for Machine Learning algorithms**\n",
    "    1. Data cleaning\n",
    "    2. Handling text and categorical attributes\n",
    "    3. Custom transformers\n",
    "    4. Feature scaling\n",
    "    5. Transformation pipelines\n",
    "  \n",
    "## **4. Select and train a model**\n",
    "    1. Training and evaluating on the training set\n",
    "    2. Cross Validation\n",
    "\n",
    "## **5. Fine-tune the model**\n",
    "    1. Grid search\n",
    "    2. Analyze the best models and their errors\n",
    "    3. Evaluate the model on the test set\n",
    "  "
   ]
  },
  {
   "cell_type": "markdown",
   "metadata": {},
   "source": [
    "## 1. Get the data"
   ]
  },
  {
   "cell_type": "markdown",
   "metadata": {},
   "source": [
    "### *1.1. Set up the working directory *"
   ]
  },
  {
   "cell_type": "markdown",
   "metadata": {},
   "source": [
    "The first step is to create a workspace. We import the `os` module. Next we us the `getcwd` method to return a string representing the current working directory. Then we use the `chdir` method to change the current working directory to path mentioned. Finally we confirm if our working directory is set to the one specified by calling `getcwd` metod again."
   ]
  },
  {
   "cell_type": "code",
   "execution_count": 1,
   "metadata": {
    "collapsed": false
   },
   "outputs": [
    {
     "data": {
      "text/plain": [
       "'C:\\\\Users\\\\katri\\\\Desktop\\\\MA755\\\\Assignment\\\\Assignment1'"
      ]
     },
     "execution_count": 1,
     "metadata": {},
     "output_type": "execute_result"
    }
   ],
   "source": [
    "import os\n",
    "os.getcwd() \n",
    "os.chdir(C:\\\\Users\\\\Chengdong Liang\\\\Desktop\\\\MA 755\\\\Assignment 1)\n",
    "os.getcwd()"
   ]
  },
  {
   "cell_type": "markdown",
   "metadata": {},
   "source": [
    "The above output tell us that our current working directory is \"C:\\\\Users\\\\katri\\\\Desktop\\\\MA755\\\\Assignment\\\\Assignment1\""
   ]
  },
  {
   "cell_type": "markdown",
   "metadata": {},
   "source": [
    "###  *1.2. Download and unzip the data file*"
   ]
  },
  {
   "cell_type": "markdown",
   "metadata": {},
   "source": [
    "We import the `os` and `zipfile` modules to fetch our data which is in the form of a zipped file. Next we import the `urllib` module that is used to fetch URLs. `COLLEGE_URL` represents the URL for our data. `COLLEGE_PATH` is the directory created in our working space to download and save the dataset."
   ]
  },
  {
   "cell_type": "markdown",
   "metadata": {},
   "source": [
    "* `fetch_college_data` function has two parameters : `college_url` for the url of our dataset and `college_path` for the path in our working space where the data should be downloaded and saved.\n",
    "* `makedirs` method is used to create the `datatsets/college` directory and setting `exist_ok` to True tells Python to not raise an error if the directory already exists.\n",
    "* `os.path.join` method combines the name of the directory where the data is stored and the name of the data file to create an absolute path to the datafile."
   ]
  },
  {
   "cell_type": "code",
   "execution_count": 2,
   "metadata": {
    "collapsed": true
   },
   "outputs": [],
   "source": [
    "import zipfile\n",
    "from six.moves import urllib\n",
    "DOWNLOAD_ROOT = \"https://ed-public-download.apps.cloud.gov/downloads/\"\n",
    "COLLEGE_PATH = \"datasets/college\"\n",
    "COLLEGE_URL = DOWNLOAD_ROOT + \"CollegeScorecard_Raw_Data.zip\"\n",
    "\n",
    "def fetch_college_data(college_url=COLLEGE_URL, college_path=COLLEGE_PATH):\n",
    "    os.makedirs(college_path, exist_ok=True)\n",
    "    zip_path = os.path.join(college_path, \"Raw_Data.zip\")\n",
    "    urllib.request.urlretrieve(college_url, zip_path)\n",
    "    college_zip = zipfile.ZipFile(zip_path)\n",
    "    college_zip.extractall(path=college_path)\n",
    "    college_zip.close()"
   ]
  },
  {
   "cell_type": "markdown",
   "metadata": {},
   "source": [
    "Now we call the function `fetch_college_data`."
   ]
  },
  {
   "cell_type": "code",
   "execution_count": 3,
   "metadata": {
    "collapsed": false
   },
   "outputs": [],
   "source": [
    " fetch_college_data()"
   ]
  },
  {
   "cell_type": "markdown",
   "metadata": {},
   "source": [
    "It creates a `datasets/college` directory in the workspace, downloads the `CollegeScorecard_Raw_Data.zip` file and extracts all files from it in this directory."
   ]
  },
  {
   "cell_type": "markdown",
   "metadata": {},
   "source": [
    "The code below is the function to read in the csv file `MERGED2014_15_PP.csv` to a Pandas DataFrame."
   ]
  },
  {
   "cell_type": "code",
   "execution_count": 5,
   "metadata": {
    "collapsed": false
   },
   "outputs": [],
   "source": [
    "import pandas as pd\n",
    "\n",
    "DATA_PATH= \"datasets/college/CollegeScorecard_Raw_Data\"\n",
    "\n",
    "def load_college_data(data_path=DATA_PATH):\n",
    "    # `data_path` is relative to the directory containing this script\n",
    "    csv_path = os.path.join(data_path, \"MERGED2014_15_PP.csv\")\n",
    "    return pd.read_csv(csv_path)"
   ]
  },
  {
   "cell_type": "markdown",
   "metadata": {},
   "source": [
    "### *1.3 Take a quick look at the data structure*"
   ]
  },
  {
   "cell_type": "markdown",
   "metadata": {},
   "source": [
    "Next we call the function `load_college_data` which returns a Pandas DataFrame and assign it to `college_original`. We also confirm its type and then look at the first five rows of the DataFrame `college_original` using the `head()` method"
   ]
  },
  {
   "cell_type": "code",
   "execution_count": 6,
   "metadata": {
    "collapsed": false,
    "scrolled": true
   },
   "outputs": [
    {
     "name": "stdout",
     "output_type": "stream",
     "text": [
      "<class 'pandas.core.frame.DataFrame'>\n"
     ]
    },
    {
     "name": "stderr",
     "output_type": "stream",
     "text": [
      "C:\\Users\\katri\\Anaconda3\\lib\\site-packages\\IPython\\core\\interactiveshell.py:2821: DtypeWarning: Columns (6,9,1379,1380,1381,1382,1383,1384,1385,1386,1387,1388,1389,1390,1391,1392,1393,1394,1395,1396,1397,1398,1399,1400,1401,1402,1403,1404,1405,1406,1407,1411,1425,1427,1503,1517,1529,1530,1532,1537,1540,1541,1542,1575,1576,1577,1578,1579,1580,1581,1582,1583,1584,1585,1586,1587,1588,1589,1590,1591,1592,1593,1594,1595,1596,1597,1598,1599,1600,1601,1602,1605,1606,1609,1610,1613,1614,1615,1725,1726,1727,1728,1729) have mixed types. Specify dtype option on import or set low_memory=False.\n",
      "  if self.run_code(code, result):\n"
     ]
    },
    {
     "data": {
      "text/html": [
       "<div>\n",
       "<table border=\"1\" class=\"dataframe\">\n",
       "  <thead>\n",
       "    <tr style=\"text-align: right;\">\n",
       "      <th></th>\n",
       "      <th>﻿UNITID</th>\n",
       "      <th>OPEID</th>\n",
       "      <th>OPEID6</th>\n",
       "      <th>INSTNM</th>\n",
       "      <th>CITY</th>\n",
       "      <th>STABBR</th>\n",
       "      <th>ZIP</th>\n",
       "      <th>ACCREDAGENCY</th>\n",
       "      <th>INSTURL</th>\n",
       "      <th>NPCURL</th>\n",
       "      <th>...</th>\n",
       "      <th>D100_L4</th>\n",
       "      <th>TRANS_4</th>\n",
       "      <th>DTRANS_4</th>\n",
       "      <th>TRANS_L4</th>\n",
       "      <th>DTRANS_L4</th>\n",
       "      <th>ICLEVEL</th>\n",
       "      <th>UGDS_MEN</th>\n",
       "      <th>UGDS_WOMEN</th>\n",
       "      <th>CDR3_DENOM</th>\n",
       "      <th>CDR2_DENOM</th>\n",
       "    </tr>\n",
       "  </thead>\n",
       "  <tbody>\n",
       "    <tr>\n",
       "      <th>0</th>\n",
       "      <td>100654</td>\n",
       "      <td>100200</td>\n",
       "      <td>1002</td>\n",
       "      <td>Alabama A &amp; M University</td>\n",
       "      <td>Normal</td>\n",
       "      <td>AL</td>\n",
       "      <td>35762</td>\n",
       "      <td>Southern Association of Colleges and Schools C...</td>\n",
       "      <td>www.aamu.edu/</td>\n",
       "      <td>galileo.aamu.edu/netpricecalculator/npcalc.htm</td>\n",
       "      <td>...</td>\n",
       "      <td>NaN</td>\n",
       "      <td>0.0000</td>\n",
       "      <td>1044.0</td>\n",
       "      <td>NaN</td>\n",
       "      <td>NaN</td>\n",
       "      <td>1</td>\n",
       "      <td>0.4831</td>\n",
       "      <td>0.5169</td>\n",
       "      <td>1895.0</td>\n",
       "      <td>NaN</td>\n",
       "    </tr>\n",
       "    <tr>\n",
       "      <th>1</th>\n",
       "      <td>100663</td>\n",
       "      <td>105200</td>\n",
       "      <td>1052</td>\n",
       "      <td>University of Alabama at Birmingham</td>\n",
       "      <td>Birmingham</td>\n",
       "      <td>AL</td>\n",
       "      <td>35294-0110</td>\n",
       "      <td>Southern Association of Colleges and Schools C...</td>\n",
       "      <td>www.uab.edu</td>\n",
       "      <td>www.collegeportraits.org/AL/UAB/estimator/agree</td>\n",
       "      <td>...</td>\n",
       "      <td>NaN</td>\n",
       "      <td>0.2408</td>\n",
       "      <td>1246.0</td>\n",
       "      <td>NaN</td>\n",
       "      <td>NaN</td>\n",
       "      <td>1</td>\n",
       "      <td>0.4169</td>\n",
       "      <td>0.5831</td>\n",
       "      <td>3937.0</td>\n",
       "      <td>NaN</td>\n",
       "    </tr>\n",
       "    <tr>\n",
       "      <th>2</th>\n",
       "      <td>100690</td>\n",
       "      <td>2503400</td>\n",
       "      <td>25034</td>\n",
       "      <td>Amridge University</td>\n",
       "      <td>Montgomery</td>\n",
       "      <td>AL</td>\n",
       "      <td>36117-3553</td>\n",
       "      <td>Southern Association of Colleges and Schools C...</td>\n",
       "      <td>www.amridgeuniversity.edu</td>\n",
       "      <td>www2.amridgeuniversity.edu:9091/</td>\n",
       "      <td>...</td>\n",
       "      <td>NaN</td>\n",
       "      <td>0.0000</td>\n",
       "      <td>9.0</td>\n",
       "      <td>NaN</td>\n",
       "      <td>NaN</td>\n",
       "      <td>1</td>\n",
       "      <td>0.3986</td>\n",
       "      <td>0.6014</td>\n",
       "      <td>344.0</td>\n",
       "      <td>NaN</td>\n",
       "    </tr>\n",
       "    <tr>\n",
       "      <th>3</th>\n",
       "      <td>100706</td>\n",
       "      <td>105500</td>\n",
       "      <td>1055</td>\n",
       "      <td>University of Alabama in Huntsville</td>\n",
       "      <td>Huntsville</td>\n",
       "      <td>AL</td>\n",
       "      <td>35899</td>\n",
       "      <td>Southern Association of Colleges and Schools C...</td>\n",
       "      <td>www.uah.edu</td>\n",
       "      <td>finaid.uah.edu/</td>\n",
       "      <td>...</td>\n",
       "      <td>NaN</td>\n",
       "      <td>0.3477</td>\n",
       "      <td>765.0</td>\n",
       "      <td>NaN</td>\n",
       "      <td>NaN</td>\n",
       "      <td>1</td>\n",
       "      <td>0.5733</td>\n",
       "      <td>0.4267</td>\n",
       "      <td>1513.0</td>\n",
       "      <td>NaN</td>\n",
       "    </tr>\n",
       "    <tr>\n",
       "      <th>4</th>\n",
       "      <td>100724</td>\n",
       "      <td>100500</td>\n",
       "      <td>1005</td>\n",
       "      <td>Alabama State University</td>\n",
       "      <td>Montgomery</td>\n",
       "      <td>AL</td>\n",
       "      <td>36104-0271</td>\n",
       "      <td>Southern Association of Colleges and Schools C...</td>\n",
       "      <td>www.alasu.edu</td>\n",
       "      <td>www.alasu.edu/cost-aid/forms/calculator/index....</td>\n",
       "      <td>...</td>\n",
       "      <td>NaN</td>\n",
       "      <td>0.0000</td>\n",
       "      <td>1330.0</td>\n",
       "      <td>NaN</td>\n",
       "      <td>NaN</td>\n",
       "      <td>1</td>\n",
       "      <td>0.3877</td>\n",
       "      <td>0.6123</td>\n",
       "      <td>2137.0</td>\n",
       "      <td>NaN</td>\n",
       "    </tr>\n",
       "  </tbody>\n",
       "</table>\n",
       "<p>5 rows × 1743 columns</p>\n",
       "</div>"
      ],
      "text/plain": [
       "   ﻿UNITID    OPEID  OPEID6                               INSTNM        CITY  \\\n",
       "0   100654   100200    1002             Alabama A & M University      Normal   \n",
       "1   100663   105200    1052  University of Alabama at Birmingham  Birmingham   \n",
       "2   100690  2503400   25034                   Amridge University  Montgomery   \n",
       "3   100706   105500    1055  University of Alabama in Huntsville  Huntsville   \n",
       "4   100724   100500    1005             Alabama State University  Montgomery   \n",
       "\n",
       "  STABBR         ZIP                                       ACCREDAGENCY  \\\n",
       "0     AL       35762  Southern Association of Colleges and Schools C...   \n",
       "1     AL  35294-0110  Southern Association of Colleges and Schools C...   \n",
       "2     AL  36117-3553  Southern Association of Colleges and Schools C...   \n",
       "3     AL       35899  Southern Association of Colleges and Schools C...   \n",
       "4     AL  36104-0271  Southern Association of Colleges and Schools C...   \n",
       "\n",
       "                     INSTURL  \\\n",
       "0              www.aamu.edu/   \n",
       "1                www.uab.edu   \n",
       "2  www.amridgeuniversity.edu   \n",
       "3                www.uah.edu   \n",
       "4              www.alasu.edu   \n",
       "\n",
       "                                              NPCURL     ...      D100_L4  \\\n",
       "0     galileo.aamu.edu/netpricecalculator/npcalc.htm     ...          NaN   \n",
       "1    www.collegeportraits.org/AL/UAB/estimator/agree     ...          NaN   \n",
       "2                   www2.amridgeuniversity.edu:9091/     ...          NaN   \n",
       "3                                    finaid.uah.edu/     ...          NaN   \n",
       "4  www.alasu.edu/cost-aid/forms/calculator/index....     ...          NaN   \n",
       "\n",
       "   TRANS_4  DTRANS_4  TRANS_L4  DTRANS_L4  ICLEVEL  UGDS_MEN  UGDS_WOMEN  \\\n",
       "0   0.0000    1044.0       NaN        NaN        1    0.4831      0.5169   \n",
       "1   0.2408    1246.0       NaN        NaN        1    0.4169      0.5831   \n",
       "2   0.0000       9.0       NaN        NaN        1    0.3986      0.6014   \n",
       "3   0.3477     765.0       NaN        NaN        1    0.5733      0.4267   \n",
       "4   0.0000    1330.0       NaN        NaN        1    0.3877      0.6123   \n",
       "\n",
       "   CDR3_DENOM  CDR2_DENOM  \n",
       "0      1895.0         NaN  \n",
       "1      3937.0         NaN  \n",
       "2       344.0         NaN  \n",
       "3      1513.0         NaN  \n",
       "4      2137.0         NaN  \n",
       "\n",
       "[5 rows x 1743 columns]"
      ]
     },
     "execution_count": 6,
     "metadata": {},
     "output_type": "execute_result"
    }
   ],
   "source": [
    "college_original = load_college_data()\n",
    "print(type(college_original))\n",
    "college_original.head()"
   ]
  },
  {
   "cell_type": "markdown",
   "metadata": {},
   "source": [
    "The output tells us that `college_original` is a pandas Dataframe. Each row represents one college. There are 1743 attributes (columns). \n",
    "\n",
    "For further analysis, we need to subset this data set to include only our variables of interest."
   ]
  },
  {
   "cell_type": "markdown",
   "metadata": {},
   "source": [
    "\n",
    "### Subsetting the data\n",
    "\n",
    "Based on the original dataset, a new dataframe is created, which includes the variables we mainly focus on:\n",
    "* Dependent variable - 1\n",
    "* Independent variable - 6\n",
    "\n",
    "| **Variables** | **Description**      | **Type** | **Note**  |\n",
    "| ------------- |:-------------:| -----------:|-----------:|\n",
    "|PCTFLOAN      | Rate of receiving federal loans | Numeric|Dependent |\n",
    "| DEBT_MDN      | Cumulative Median Debt      | Numeric|  Independent |\n",
    "| FAMINC | Average family income in real 2015 dollars|Numeric|   Independent |\n",
    "| HIGHDEG |Highest degree awarded      |Categorical|    Independent |\n",
    "| REGION | Region     |Categorical|   Independent |\n",
    "|LATITUDE| Latitude of Location |Numeric| Independent|\n",
    "|LONGITUDE|Longitude of Location |Numeric| Independent|\n",
    "\n",
    "The subsetting of the DataFrame is done using square brackets and the names of the columns to be selected are placed inside the brackets. The selected columns are put in a new DataFrame called `college`.\n",
    "\n",
    "Let's have a quick look at the first 5 rows of the DataFrame `college` by using the `head()` method."
   ]
  },
  {
   "cell_type": "code",
   "execution_count": 7,
   "metadata": {
    "collapsed": false
   },
   "outputs": [
    {
     "data": {
      "text/html": [
       "<div>\n",
       "<table border=\"1\" class=\"dataframe\">\n",
       "  <thead>\n",
       "    <tr style=\"text-align: right;\">\n",
       "      <th></th>\n",
       "      <th>PCTFLOAN</th>\n",
       "      <th>DEBT_MDN</th>\n",
       "      <th>FAMINC</th>\n",
       "      <th>HIGHDEG</th>\n",
       "      <th>REGION</th>\n",
       "      <th>LATITUDE</th>\n",
       "      <th>LONGITUDE</th>\n",
       "    </tr>\n",
       "  </thead>\n",
       "  <tbody>\n",
       "    <tr>\n",
       "      <th>0</th>\n",
       "      <td>0.8284</td>\n",
       "      <td>15000</td>\n",
       "      <td>30235.73401</td>\n",
       "      <td>4</td>\n",
       "      <td>5</td>\n",
       "      <td>34.783368</td>\n",
       "      <td>-86.568502</td>\n",
       "    </tr>\n",
       "    <tr>\n",
       "      <th>1</th>\n",
       "      <td>0.5214</td>\n",
       "      <td>14382</td>\n",
       "      <td>49731.07607</td>\n",
       "      <td>4</td>\n",
       "      <td>5</td>\n",
       "      <td>33.502230</td>\n",
       "      <td>-86.809170</td>\n",
       "    </tr>\n",
       "    <tr>\n",
       "      <th>2</th>\n",
       "      <td>0.7795</td>\n",
       "      <td>9500</td>\n",
       "      <td>19862.04352</td>\n",
       "      <td>4</td>\n",
       "      <td>5</td>\n",
       "      <td>32.362609</td>\n",
       "      <td>-86.174010</td>\n",
       "    </tr>\n",
       "    <tr>\n",
       "      <th>3</th>\n",
       "      <td>0.4596</td>\n",
       "      <td>15750</td>\n",
       "      <td>52681.57006</td>\n",
       "      <td>4</td>\n",
       "      <td>5</td>\n",
       "      <td>34.722818</td>\n",
       "      <td>-86.638420</td>\n",
       "    </tr>\n",
       "    <tr>\n",
       "      <th>4</th>\n",
       "      <td>0.7554</td>\n",
       "      <td>14362</td>\n",
       "      <td>29758.63871</td>\n",
       "      <td>4</td>\n",
       "      <td>5</td>\n",
       "      <td>32.364317</td>\n",
       "      <td>-86.295677</td>\n",
       "    </tr>\n",
       "  </tbody>\n",
       "</table>\n",
       "</div>"
      ],
      "text/plain": [
       "   PCTFLOAN DEBT_MDN       FAMINC  HIGHDEG  REGION   LATITUDE  LONGITUDE\n",
       "0    0.8284    15000  30235.73401        4       5  34.783368 -86.568502\n",
       "1    0.5214    14382  49731.07607        4       5  33.502230 -86.809170\n",
       "2    0.7795     9500  19862.04352        4       5  32.362609 -86.174010\n",
       "3    0.4596    15750  52681.57006        4       5  34.722818 -86.638420\n",
       "4    0.7554    14362  29758.63871        4       5  32.364317 -86.295677"
      ]
     },
     "execution_count": 7,
     "metadata": {},
     "output_type": "execute_result"
    }
   ],
   "source": [
    "college=college_original[['PCTFLOAN','DEBT_MDN','FAMINC','HIGHDEG','REGION', 'LATITUDE', 'LONGITUDE']]\n",
    "college.head()"
   ]
  },
  {
   "cell_type": "markdown",
   "metadata": {},
   "source": [
    "From the first 5 rows of the data, we can observe that there are two variables (`HIGHDEG` and `REGION`) that have repetitive values, which indicates that they might be categorical variables. \n",
    "\n",
    "Use the `value_counts()` method to have a closer look at these two variables. This method gives us the frequency count for each of the unique values of the variable, arranged from highest to lowest."
   ]
  },
  {
   "cell_type": "code",
   "execution_count": 8,
   "metadata": {
    "collapsed": false
   },
   "outputs": [
    {
     "data": {
      "text/plain": [
       "1    2606\n",
       "4    2026\n",
       "2    1671\n",
       "3     937\n",
       "0     463\n",
       "Name: HIGHDEG, dtype: int64"
      ]
     },
     "execution_count": 8,
     "metadata": {},
     "output_type": "execute_result"
    }
   ],
   "source": [
    "college[\"HIGHDEG\"].value_counts()"
   ]
  },
  {
   "cell_type": "markdown",
   "metadata": {},
   "source": [
    "The names of the degrees represented by these values are listed below\n",
    "* 0= Non-degree-granting\n",
    "* 1= Certificate Degree\n",
    "* 2= Associate Degree\n",
    "* 3= Bachelor's Degree\n",
    "* 4= Graduate Degree\n",
    "\n",
    "So we can see that there are 2606 Certificate degree institutions, 2026 Graduate degree, 1671 Associate degree, 937 Bachelor's degree and 463 Non-degree granting institutions."
   ]
  },
  {
   "cell_type": "markdown",
   "metadata": {},
   "source": [
    "The frequency count for each unique value of the variable `REGION` is then displayed."
   ]
  },
  {
   "cell_type": "code",
   "execution_count": 9,
   "metadata": {
    "collapsed": false
   },
   "outputs": [
    {
     "data": {
      "text/plain": [
       "5    1890\n",
       "2    1182\n",
       "3    1147\n",
       "8    1099\n",
       "6     821\n",
       "4     663\n",
       "1     442\n",
       "7     297\n",
       "9     161\n",
       "0       1\n",
       "Name: REGION, dtype: int64"
      ]
     },
     "execution_count": 9,
     "metadata": {},
     "output_type": "execute_result"
    }
   ],
   "source": [
    "college[\"REGION\"].value_counts()"
   ]
  },
  {
   "cell_type": "markdown",
   "metadata": {},
   "source": [
    "The names of the regions represented bythe values of the variable `REGION` are listed below:\n",
    "\n",
    "* 0= U.S. Service Schools\n",
    "* 1= New England (CT, ME, MA, NH, RI, VT)\n",
    "* 2= Mid East (DE, DC, MD, NJ, NY, PA)\n",
    "* 3= Great Lakes (IL, IN, MI, OH, WI)\n",
    "* 4= Plains (IA, KS, MN, MO, NE, ND, SD)\n",
    "* 5= Southeast (AL, AR, FL, GA, KY, LA, MS, NC, SC, TN, VA, WV)\n",
    "* 6= Southwest (AZ, NM, OK, TX)\n",
    "* 7= Rocky Mountains (CO, ID, MT, UT, WY)\n",
    "* 8= Far West (AK, CA, HI, NV, OR, WA)\n",
    "* 9= Outlying Areas (AS, FM, GU, MH, MP, PR, PW, VI)\n",
    "\n",
    "The output tells us that there are 1890 institutions in the Southeast region (maximum), 1182 in the New England region and so on."
   ]
  },
  {
   "cell_type": "markdown",
   "metadata": {},
   "source": [
    "The code below uses the `info()` method to provide a concise summary of the DataFrame `college`"
   ]
  },
  {
   "cell_type": "code",
   "execution_count": 10,
   "metadata": {
    "collapsed": false
   },
   "outputs": [
    {
     "name": "stdout",
     "output_type": "stream",
     "text": [
      "<class 'pandas.core.frame.DataFrame'>\n",
      "RangeIndex: 7703 entries, 0 to 7702\n",
      "Data columns (total 7 columns):\n",
      "PCTFLOAN     6966 non-null float64\n",
      "DEBT_MDN     7671 non-null object\n",
      "FAMINC       7497 non-null object\n",
      "HIGHDEG      7703 non-null int64\n",
      "REGION       7703 non-null int64\n",
      "LATITUDE     7282 non-null float64\n",
      "LONGITUDE    7282 non-null float64\n",
      "dtypes: float64(3), int64(2), object(2)\n",
      "memory usage: 421.3+ KB\n"
     ]
    }
   ],
   "source": [
    "college.info()"
   ]
  },
  {
   "cell_type": "markdown",
   "metadata": {},
   "source": [
    "The output tells us that the DataFrame `college` has 7703 observations. The names of the variables, the number of non-null values and the type are displayed as well. \n",
    "\n",
    "For instance, the variable `PCTFLOAN` has 6966 non-null values and is of type `float`."
   ]
  },
  {
   "cell_type": "markdown",
   "metadata": {},
   "source": [
    "From the general information, as shown above, it can be seen that the variables `DEBT_MDN` denoting cumulative median debt and `FAMINC`(average family income) are not numeric, and the variables `HIGHDEG` and `REGION` should be categorical. Therefore, we need to change the type of these variables.\n",
    "\n",
    "`to_numeric()` method takes a Pandas series as input and converts it to numeric, coercing when told to by setting `errors` to `coerce`. `as.type(category)` allows us to convert a column to a categorical variable."
   ]
  },
  {
   "cell_type": "code",
   "execution_count": 12,
   "metadata": {
    "collapsed": false
   },
   "outputs": [
    {
     "name": "stderr",
     "output_type": "stream",
     "text": [
      "C:\\Users\\katri\\Anaconda3\\lib\\site-packages\\ipykernel\\__main__.py:1: SettingWithCopyWarning: \n",
      "A value is trying to be set on a copy of a slice from a DataFrame.\n",
      "Try using .loc[row_indexer,col_indexer] = value instead\n",
      "\n",
      "See the caveats in the documentation: http://pandas.pydata.org/pandas-docs/stable/indexing.html#indexing-view-versus-copy\n",
      "  if __name__ == '__main__':\n",
      "C:\\Users\\katri\\Anaconda3\\lib\\site-packages\\ipykernel\\__main__.py:2: SettingWithCopyWarning: \n",
      "A value is trying to be set on a copy of a slice from a DataFrame.\n",
      "Try using .loc[row_indexer,col_indexer] = value instead\n",
      "\n",
      "See the caveats in the documentation: http://pandas.pydata.org/pandas-docs/stable/indexing.html#indexing-view-versus-copy\n",
      "  from ipykernel import kernelapp as app\n",
      "C:\\Users\\katri\\Anaconda3\\lib\\site-packages\\ipykernel\\__main__.py:3: SettingWithCopyWarning: \n",
      "A value is trying to be set on a copy of a slice from a DataFrame.\n",
      "Try using .loc[row_indexer,col_indexer] = value instead\n",
      "\n",
      "See the caveats in the documentation: http://pandas.pydata.org/pandas-docs/stable/indexing.html#indexing-view-versus-copy\n",
      "  app.launch_new_instance()\n",
      "C:\\Users\\katri\\Anaconda3\\lib\\site-packages\\ipykernel\\__main__.py:4: SettingWithCopyWarning: \n",
      "A value is trying to be set on a copy of a slice from a DataFrame.\n",
      "Try using .loc[row_indexer,col_indexer] = value instead\n",
      "\n",
      "See the caveats in the documentation: http://pandas.pydata.org/pandas-docs/stable/indexing.html#indexing-view-versus-copy\n"
     ]
    }
   ],
   "source": [
    "college[\"DEBT_MDN\"]=pd.to_numeric(college[\"DEBT_MDN\"],errors='coerce')\n",
    "college[\"FAMINC\"]=pd.to_numeric(college[\"FAMINC\"],errors='coerce')\n",
    "college[\"HIGHDEG\"] = college[\"HIGHDEG\"].astype('category')\n",
    "college[\"REGION\"] = college[\"REGION\"].astype('category')"
   ]
  },
  {
   "cell_type": "markdown",
   "metadata": {},
   "source": [
    "Use the `info()` method to check whether the data type of these variables has been changed"
   ]
  },
  {
   "cell_type": "code",
   "execution_count": 13,
   "metadata": {
    "collapsed": false
   },
   "outputs": [
    {
     "name": "stdout",
     "output_type": "stream",
     "text": [
      "<class 'pandas.core.frame.DataFrame'>\n",
      "RangeIndex: 7703 entries, 0 to 7702\n",
      "Data columns (total 7 columns):\n",
      "PCTFLOAN     6966 non-null float64\n",
      "DEBT_MDN     6681 non-null float64\n",
      "FAMINC       7386 non-null float64\n",
      "HIGHDEG      7703 non-null category\n",
      "REGION       7703 non-null category\n",
      "LATITUDE     7282 non-null float64\n",
      "LONGITUDE    7282 non-null float64\n",
      "dtypes: category(2), float64(5)\n",
      "memory usage: 316.1 KB\n"
     ]
    }
   ],
   "source": [
    "college.info()"
   ]
  },
  {
   "cell_type": "markdown",
   "metadata": {},
   "source": [
    "From the output, the variables `DEBT_MDN` and `FAMINC` have been changed into numeric and the variables `HIGHDEG` and `REGION` have been changed into categorical. "
   ]
  },
  {
   "cell_type": "markdown",
   "metadata": {},
   "source": [
    "The code below uses the `describe()` method to demonstrate the basic statistics of each numerical variable: number of rows, mean, standard deviation, minimum, first quartile, second quartile, third quartile and maximum.\n",
    "\n",
    "*Note*: the missing values are automatically excluded on the row count, mean, min and max."
   ]
  },
  {
   "cell_type": "code",
   "execution_count": 14,
   "metadata": {
    "collapsed": false,
    "scrolled": true
   },
   "outputs": [
    {
     "name": "stderr",
     "output_type": "stream",
     "text": [
      "C:\\Users\\katri\\Anaconda3\\lib\\site-packages\\numpy\\lib\\function_base.py:3834: RuntimeWarning: Invalid value encountered in percentile\n",
      "  RuntimeWarning)\n"
     ]
    },
    {
     "data": {
      "text/html": [
       "<div>\n",
       "<table border=\"1\" class=\"dataframe\">\n",
       "  <thead>\n",
       "    <tr style=\"text-align: right;\">\n",
       "      <th></th>\n",
       "      <th>PCTFLOAN</th>\n",
       "      <th>DEBT_MDN</th>\n",
       "      <th>FAMINC</th>\n",
       "      <th>LATITUDE</th>\n",
       "      <th>LONGITUDE</th>\n",
       "    </tr>\n",
       "  </thead>\n",
       "  <tbody>\n",
       "    <tr>\n",
       "      <th>count</th>\n",
       "      <td>6966.000000</td>\n",
       "      <td>6681.000000</td>\n",
       "      <td>7386.000000</td>\n",
       "      <td>7282.000000</td>\n",
       "      <td>7282.000000</td>\n",
       "    </tr>\n",
       "    <tr>\n",
       "      <th>mean</th>\n",
       "      <td>0.523092</td>\n",
       "      <td>11303.130295</td>\n",
       "      <td>35353.389779</td>\n",
       "      <td>37.423980</td>\n",
       "      <td>-90.350053</td>\n",
       "    </tr>\n",
       "    <tr>\n",
       "      <th>std</th>\n",
       "      <td>0.284088</td>\n",
       "      <td>5336.993010</td>\n",
       "      <td>21962.527660</td>\n",
       "      <td>5.803953</td>\n",
       "      <td>17.594148</td>\n",
       "    </tr>\n",
       "    <tr>\n",
       "      <th>min</th>\n",
       "      <td>0.000000</td>\n",
       "      <td>1000.000000</td>\n",
       "      <td>0.000000</td>\n",
       "      <td>-14.322587</td>\n",
       "      <td>-170.742728</td>\n",
       "    </tr>\n",
       "    <tr>\n",
       "      <th>25%</th>\n",
       "      <td>NaN</td>\n",
       "      <td>NaN</td>\n",
       "      <td>NaN</td>\n",
       "      <td>NaN</td>\n",
       "      <td>NaN</td>\n",
       "    </tr>\n",
       "    <tr>\n",
       "      <th>50%</th>\n",
       "      <td>NaN</td>\n",
       "      <td>NaN</td>\n",
       "      <td>NaN</td>\n",
       "      <td>NaN</td>\n",
       "      <td>NaN</td>\n",
       "    </tr>\n",
       "    <tr>\n",
       "      <th>75%</th>\n",
       "      <td>NaN</td>\n",
       "      <td>NaN</td>\n",
       "      <td>NaN</td>\n",
       "      <td>NaN</td>\n",
       "      <td>NaN</td>\n",
       "    </tr>\n",
       "    <tr>\n",
       "      <th>max</th>\n",
       "      <td>1.000000</td>\n",
       "      <td>37500.000000</td>\n",
       "      <td>152099.754600</td>\n",
       "      <td>71.324702</td>\n",
       "      <td>171.378442</td>\n",
       "    </tr>\n",
       "  </tbody>\n",
       "</table>\n",
       "</div>"
      ],
      "text/plain": [
       "          PCTFLOAN      DEBT_MDN         FAMINC     LATITUDE    LONGITUDE\n",
       "count  6966.000000   6681.000000    7386.000000  7282.000000  7282.000000\n",
       "mean      0.523092  11303.130295   35353.389779    37.423980   -90.350053\n",
       "std       0.284088   5336.993010   21962.527660     5.803953    17.594148\n",
       "min       0.000000   1000.000000       0.000000   -14.322587  -170.742728\n",
       "25%            NaN           NaN            NaN          NaN          NaN\n",
       "50%            NaN           NaN            NaN          NaN          NaN\n",
       "75%            NaN           NaN            NaN          NaN          NaN\n",
       "max       1.000000  37500.000000  152099.754600    71.324702   171.378442"
      ]
     },
     "execution_count": 14,
     "metadata": {},
     "output_type": "execute_result"
    }
   ],
   "source": [
    "college.describe()"
   ]
  },
  {
   "cell_type": "markdown",
   "metadata": {},
   "source": [
    "There are 7703 entries in the dataset. From the table above, the variable *PCTFLOAN* (rate of receiving federal loans) has 6966 non-missing values, and the mean is about 0.52. The variable *DEBT_MDN* (Cumulative Median Debt) has 6681 non-missing values, and its mean is about 11,303.13. The variable *FAMINC* (Average family income) has 7386 non-missing values, and its mean is around 35,353.39. The variables *LATITUDE* and *LONGITUDE* both have 7282 non-missing values."
   ]
  },
  {
   "cell_type": "markdown",
   "metadata": {},
   "source": [
    "To use the plotting features of `matplotlib` library, we use the command `%matplotlib inline`. This magic command  performs the necessary behind-the-scenes setup for IPython to work correctly hand in hand with `matplotlib`. With `inline`, the output plots are displayed inline in the Jupyter notebook, directly below the code cells.\n",
    "\n",
    "We then use the `hist()` method to plot a histogram for numerical variables in order to know the distribution of each numerical variable."
   ]
  },
  {
   "cell_type": "code",
   "execution_count": 236,
   "metadata": {
    "collapsed": false
   },
   "outputs": [
    {
     "data": {
      "image/png": "[encoded data removed]",
      "text/plain": [
       "<matplotlib.figure.Figure at 0x1e5d6fa8588>"
      ]
     },
     "metadata": {},
     "output_type": "display_data"
    }
   ],
   "source": [
    "%matplotlib inline \n",
    "import matplotlib.pyplot as plt\n",
    "college.hist(bins=50, figsize=(20,15))\n",
    "plt.show()"
   ]
  },
  {
   "cell_type": "markdown",
   "metadata": {},
   "source": [
    "Some findings from the histograms:\n",
    "* `PCTFOLAN` has the highest frequency at the value of 0, which might indicate that some places do not offer the federal loan so there is a very high density at the value of 0. Because it is the dependent variable, more attention needs to be paid here. \n",
    "* `DEBT_MDN` with the value of 10,000 has the highest frequency, about 1,100 times.\n",
    "* `FAMINC` has the right heavy tail. Most of the observations range from 20,000 to 30,000.\n",
    "* Most observations are located with the value of `LATITUDE` from 35N to 40N and the value of `LONGITUDE` from -125W to -75W.\n",
    "\n",
    "*Note*: **%matplotlib inline** can be used only in a Jupyter notebook. It allows Jupyter to create Matplotlib so that the Jupyter's own backend is available to be used. Additionally, **show()** is optional."
   ]
  },
  {
   "cell_type": "markdown",
   "metadata": {},
   "source": [
    "### *1.4 Create a train set and a test set*"
   ]
  },
  {
   "cell_type": "markdown",
   "metadata": {},
   "source": [
    "Split the dataset into a train set train_set and a test set test_set. 80% of the data will be used as the training set (named `train_set`), and 20% used as the test set (named `test_set`). There are different approaches to split the data, as shown in the following part."
   ]
  },
  {
   "cell_type": "markdown",
   "metadata": {},
   "source": [
    "#### Method 1"
   ]
  },
  {
   "cell_type": "markdown",
   "metadata": {},
   "source": [
    "* The function `split_train_test` is used to randomly select some observations from the whole dataset in order to create a test set. The function takes two inputs: the first being the dataset and the second being the ratio of the total number of observations of the entire dataset that we want to set aside as the test set. \n",
    "\n",
    "\n",
    "* `random.permutation(len())` method is used to randomly shuffle all the rows of the dataset. \n",
    "\n",
    "* `test-set-size` is an integer variable that represents the number of observations in the test set. \n",
    "\n",
    "* `test-indices` subsets the rows of the DataFrame until the row index `test_set_size`-1. \n",
    "\n",
    "* `train_indices` subsets the rows from the row index `test_set_size` till the end. \n",
    "\n",
    "This function returns two DataFrames - containing the train set rows and the test set rows."
   ]
  },
  {
   "cell_type": "code",
   "execution_count": 237,
   "metadata": {
    "collapsed": true
   },
   "outputs": [],
   "source": [
    "import numpy as np\n",
    "\n",
    "def split_train_test(data, test_ratio):\n",
    "    shuffled_indices = np.random.permutation(len(data))\n",
    "    test_set_size = int(len(data) * test_ratio)\n",
    "    test_indices = shuffled_indices[:test_set_size]\n",
    "    train_indices = shuffled_indices[test_set_size:]\n",
    "    return data.iloc[train_indices], data.iloc[test_indices]"
   ]
  },
  {
   "cell_type": "code",
   "execution_count": 238,
   "metadata": {
    "collapsed": false
   },
   "outputs": [
    {
     "name": "stdout",
     "output_type": "stream",
     "text": [
      "6163 train + 1540 test\n"
     ]
    }
   ],
   "source": [
    "train_set, test_set = split_train_test(college, 0.2)\n",
    "print(len(train_set), \"train +\", len(test_set), \"test\")"
   ]
  },
  {
   "cell_type": "markdown",
   "metadata": {},
   "source": [
    "The output tells us that there are 6163 observations in the train set and 1540 observations in the test set.\n"
   ]
  },
  {
   "cell_type": "markdown",
   "metadata": {},
   "source": [
    "#### Method 2 "
   ]
  },
  {
   "cell_type": "markdown",
   "metadata": {},
   "source": [
    "However, the above method will give you a different test set each time you run it.\n",
    "\n",
    "* In order to avoid it, we use each instance's identifier to decide whether the corresponding instance should be partitioned to the test set. \n",
    "* The function `test_set_check` computes a hash of each instance’s identifier, keep only the last byte of the hash and\n",
    "put the instance in the test set if this value is lower or equal to 51 (~20% of 256). \n",
    "* This ensures that the test set will remain consistent across multiple runs."
   ]
  },
  {
   "cell_type": "code",
   "execution_count": 239,
   "metadata": {
    "collapsed": true
   },
   "outputs": [],
   "source": [
    "import hashlib\n",
    "\n",
    "def test_set_check(identifier, test_ratio, hash):\n",
    "    return hash(np.int64(identifier)).digest()[-1] < 256 * test_ratio\n",
    "\n",
    "def split_train_test_by_id(data, test_ratio, id_column, hash=hashlib.md5):\n",
    "    ids = data[id_column]\n",
    "    in_test_set = ids.apply(lambda id_: test_set_check(id_, test_ratio, hash))\n",
    "    return data.loc[~in_test_set], data.loc[in_test_set]"
   ]
  },
  {
   "cell_type": "markdown",
   "metadata": {},
   "source": [
    "Since our college dataset does not have an identifier, we can use the row index as the id. To do this, we add the row index as a column."
   ]
  },
  {
   "cell_type": "code",
   "execution_count": 240,
   "metadata": {
    "collapsed": false
   },
   "outputs": [],
   "source": [
    "college_with_id = college.reset_index()\n",
    "train_set, test_set = split_train_test_by_id(college_with_id, 0.2, \"index\")"
   ]
  },
  {
   "cell_type": "markdown",
   "metadata": {},
   "source": [
    "#### Method 3"
   ]
  },
  {
   "cell_type": "markdown",
   "metadata": {},
   "source": [
    "This is another random-sampling method using Scikit-Learn. It is similar to the above `split_train_test` function, with additional features: split the datasets by passing the `random_state` parameter "
   ]
  },
  {
   "cell_type": "code",
   "execution_count": 241,
   "metadata": {
    "collapsed": true
   },
   "outputs": [],
   "source": [
    "from sklearn.model_selection import train_test_split\n",
    "\n",
    "train_set, test_set = train_test_split(college, test_size=0.2, random_state=42)"
   ]
  },
  {
   "cell_type": "markdown",
   "metadata": {},
   "source": [
    "## 2. Data discovery and visualisation"
   ]
  },
  {
   "cell_type": "markdown",
   "metadata": {},
   "source": [
    "Create a copy of the training set to start exploring."
   ]
  },
  {
   "cell_type": "code",
   "execution_count": 242,
   "metadata": {
    "collapsed": true
   },
   "outputs": [],
   "source": [
    "college = train_set.copy()"
   ]
  },
  {
   "cell_type": "markdown",
   "metadata": {},
   "source": [
    "### *2.1 Scatter plot, box plot and histogram*"
   ]
  },
  {
   "cell_type": "markdown",
   "metadata": {},
   "source": [
    "Use scatter plot to display the geographical information "
   ]
  },
  {
   "cell_type": "code",
   "execution_count": 243,
   "metadata": {
    "collapsed": false
   },
   "outputs": [
    {
     "data": {
      "text/plain": [
       "<matplotlib.axes._subplots.AxesSubplot at 0x1e5eb181630>"
      ]
     },
     "execution_count": 243,
     "metadata": {},
     "output_type": "execute_result"
    },
    {
     "data": {
      "image/png": "[encoded data removed]",
      "text/plain": [
       "<matplotlib.figure.Figure at 0x1e5f9480f28>"
      ]
     },
     "metadata": {},
     "output_type": "display_data"
    }
   ],
   "source": [
    "college.plot(kind=\"scatter\", x=\"LONGITUDE\", y=\"LATITUDE\")"
   ]
  },
  {
   "cell_type": "markdown",
   "metadata": {},
   "source": [
    "Most of the points clustered together depicting the institutions in the US (37° N, 95° W)\n",
    "\n",
    "A few outliers are due to the following:\n",
    "\n",
    "* Puerto Rico - 18° N, 66° W\n",
    "* Virgin Islands - 18° N, 64° W\n",
    "* Palau - 7.5150° N, 134.5825° E\n",
    "* Federal States of Micronesia - 7° N, 150° E"
   ]
  },
  {
   "cell_type": "markdown",
   "metadata": {},
   "source": [
    "Use boxplot to display the distribution of the variables *FAMINC* and *DEBT_MDN* in each *REGION*."
   ]
  },
  {
   "cell_type": "code",
   "execution_count": 244,
   "metadata": {
    "collapsed": false
   },
   "outputs": [
    {
     "data": {
      "text/plain": [
       "array([<matplotlib.axes._subplots.AxesSubplot object at 0x000001E5EA91FFD0>,\n",
       "       <matplotlib.axes._subplots.AxesSubplot object at 0x000001E5EA9E1860>], dtype=object)"
      ]
     },
     "execution_count": 244,
     "metadata": {},
     "output_type": "execute_result"
    },
    {
     "data": {
      "image/png": "[encoded data removed]",
      "text/plain": [
       "<matplotlib.figure.Figure at 0x1e5eaacddd8>"
      ]
     },
     "metadata": {},
     "output_type": "display_data"
    }
   ],
   "source": [
    "college.boxplot(column=[\"FAMINC\",\"DEBT_MDN\"], by=\"REGION\")"
   ]
  },
  {
   "cell_type": "markdown",
   "metadata": {},
   "source": [
    "The first figure dispays the boxplot for the average family income of students in each region. \n",
    "\n",
    "From the first plot we can observe that the average family income of students in (Region 9 - Outlying areas) is the lowest(~$10,000)  while  Region 1(New England) boasts of students coming from the highest median family income bracket (~$40,000).\n",
    "\n",
    "The second plot shows the cumulative median debt of students in each region. Region 1(New England) again stands at the first position with the highest cumulative median debt of ~$10,000."
   ]
  },
  {
   "cell_type": "markdown",
   "metadata": {},
   "source": [
    "To plot the relationship between several variables, use a scatter plot again but with additional parameters for size and color of each point in the plot.\n",
    "\n",
    "\n",
    "* `LATITUDE` and `LONGITUDE` represent the `x` and `y` coordinates of the point. \n",
    "\n",
    "\n",
    "* `s` denotes the size of each pont and `c` stands for the color of each point.\n",
    "\n",
    "\n",
    "* The average family income of students (divided by 1000) is passed as a Pandas Series to the size parameter and percentage of students who receive a federal loan is passed to the color parameter. This implies that the size of the point would indicate the average family income and the color would represent the rate of receiving federal loan. \n",
    "\n",
    "*Note: The get_cmap() method recognizes any registered colormaps of `matplotlib` and retrieves it.*"
   ]
  },
  {
   "cell_type": "code",
   "execution_count": 246,
   "metadata": {
    "collapsed": false
   },
   "outputs": [
    {
     "data": {
      "text/plain": [
       "<matplotlib.legend.Legend at 0x1e5ea7bcb70>"
      ]
     },
     "execution_count": 246,
     "metadata": {},
     "output_type": "execute_result"
    },
    {
     "data": {
      "image/png": "[encoded data removed]",
      "text/plain": [
       "<matplotlib.figure.Figure at 0x1e5f9e890f0>"
      ]
     },
     "metadata": {},
     "output_type": "display_data"
    }
   ],
   "source": [
    "college.plot(kind=\"scatter\", x=\"LONGITUDE\", y=\"LATITUDE\", alpha=0.4,\n",
    "    s=college[\"FAMINC\"]/1000, label=\"Family Income\",\n",
    "    c=\"PCTFLOAN\",cmap=plt.get_cmap(\"jet\"), colorbar=True,\n",
    ")\n",
    "plt.legend()"
   ]
  },
  {
   "cell_type": "markdown",
   "metadata": {},
   "source": [
    "It can be seen that outlying regions have the least rate of receiving federal loan. Most institutions have a rate of around 0.6% of receiving federal loan."
   ]
  },
  {
   "cell_type": "markdown",
   "metadata": {},
   "source": [
    "### *2.2 Examine the correlation*"
   ]
  },
  {
   "cell_type": "markdown",
   "metadata": {},
   "source": [
    "We use the `corr()` method to compute pairwise correlation of columns, excluding NA/null values."
   ]
  },
  {
   "cell_type": "code",
   "execution_count": 247,
   "metadata": {
    "collapsed": true
   },
   "outputs": [],
   "source": [
    "corr_matrix = college.corr()"
   ]
  },
  {
   "cell_type": "markdown",
   "metadata": {},
   "source": [
    "The output of the above code returns a DataFrame (`corr_matrix`) that contains all the pairwise correlation of columns.\n",
    "\n",
    "We examine the correlation between our dependent variable `PCTFLOAN` and the independent variables using several methods.\n",
    "\n",
    "**_Method 1_**: Calculate the correlations of each independent variable with the rate of receiving a federal loan (`PCTFOAN`), as shown below:"
   ]
  },
  {
   "cell_type": "code",
   "execution_count": 248,
   "metadata": {
    "collapsed": false
   },
   "outputs": [
    {
     "data": {
      "text/plain": [
       "PCTFLOAN     1.000000\n",
       "DEBT_MDN     0.363228\n",
       "LATITUDE     0.169326\n",
       "FAMINC       0.128340\n",
       "LONGITUDE    0.023185\n",
       "Name: PCTFLOAN, dtype: float64"
      ]
     },
     "execution_count": 248,
     "metadata": {},
     "output_type": "execute_result"
    }
   ],
   "source": [
    "corr_matrix[\"PCTFLOAN\"].sort_values(ascending=False)"
   ]
  },
  {
   "cell_type": "markdown",
   "metadata": {},
   "source": [
    "The output shows the correlation values sorted from highest to lowest. We can observe that `DEBT_MDN` has a weak positive correlation of 0.36.\n",
    "\n",
    "**_Method 2_**: Plot the correlations between numerical variables by using `scatter_matrix` function from Pandas package:"
   ]
  },
  {
   "cell_type": "code",
   "execution_count": 249,
   "metadata": {
    "collapsed": false
   },
   "outputs": [
    {
     "data": {
      "text/plain": [
       "array([[<matplotlib.axes._subplots.AxesSubplot object at 0x000001E5EB09D9E8>,\n",
       "        <matplotlib.axes._subplots.AxesSubplot object at 0x000001E5F94887F0>,\n",
       "        <matplotlib.axes._subplots.AxesSubplot object at 0x000001E5F9BA7438>],\n",
       "       [<matplotlib.axes._subplots.AxesSubplot object at 0x000001E5EA8E9208>,\n",
       "        <matplotlib.axes._subplots.AxesSubplot object at 0x000001E5FA3D5630>,\n",
       "        <matplotlib.axes._subplots.AxesSubplot object at 0x000001E5FA3D5668>],\n",
       "       [<matplotlib.axes._subplots.AxesSubplot object at 0x000001E5F74480B8>,\n",
       "        <matplotlib.axes._subplots.AxesSubplot object at 0x000001E5F90BAD68>,\n",
       "        <matplotlib.axes._subplots.AxesSubplot object at 0x000001E5EAA80080>]], dtype=object)"
      ]
     },
     "execution_count": 249,
     "metadata": {},
     "output_type": "execute_result"
    },
    {
     "data": {
      "image/png": "[encoded data removed]",
      "text/plain": [
       "<matplotlib.figure.Figure at 0x1e5eb07ffd0>"
      ]
     },
     "metadata": {},
     "output_type": "display_data"
    }
   ],
   "source": [
    "from pandas.tools.plotting import scatter_matrix\n",
    "\n",
    "attributes = [\"PCTFLOAN\", \"DEBT_MDN\", \"FAMINC\"]\n",
    "scatter_matrix(college[attributes], figsize=(8, 8))"
   ]
  },
  {
   "cell_type": "markdown",
   "metadata": {},
   "source": [
    "There seems to be a strong postive correlation between the average family income of students (`FAMINC`) and the cumulative median debt of students(`DEBT_MDN`).\n",
    "\n",
    "**_Method 3_**: Then we view the relationship between `PCTFLOAN` and `DEBT_MDN` using a scatter plot."
   ]
  },
  {
   "cell_type": "code",
   "execution_count": 250,
   "metadata": {
    "collapsed": false
   },
   "outputs": [
    {
     "data": {
      "text/plain": [
       "<matplotlib.axes._subplots.AxesSubplot at 0x1e5eab595f8>"
      ]
     },
     "execution_count": 250,
     "metadata": {},
     "output_type": "execute_result"
    },
    {
     "data": {
      "image/png": "[encoded data removed]",
      "text/plain": [
       "<matplotlib.figure.Figure at 0x1e5eac358d0>"
      ]
     },
     "metadata": {},
     "output_type": "display_data"
    }
   ],
   "source": [
    "college.plot(kind=\"scatter\", x=\"DEBT_MDN\", y=\"PCTFLOAN\",\n",
    "             alpha=0.1)"
   ]
  },
  {
   "cell_type": "markdown",
   "metadata": {},
   "source": [
    "The scatter plot tells us that `PCTFLOAN` and `DEBT_MDN` are postively correlated , but not strongly.\n",
    "\n",
    "We now create a new copy of the `train_set` and separate the predictors and labels. The DataFrame `college` contains the predictors and the series `college_labels` consists of the variable `PCTFLOAN`. We confirm their dimensions."
   ]
  },
  {
   "cell_type": "code",
   "execution_count": 251,
   "metadata": {
    "collapsed": false
   },
   "outputs": [
    {
     "name": "stdout",
     "output_type": "stream",
     "text": [
      "(6162, 6)\n",
      "(6162,)\n"
     ]
    }
   ],
   "source": [
    "college = train_set.drop(\"PCTFLOAN\", axis=1)\n",
    "college_labels = train_set[\"PCTFLOAN\"].copy()\n",
    "print(college.shape)\n",
    "print(college_labels.shape)"
   ]
  },
  {
   "cell_type": "markdown",
   "metadata": {},
   "source": [
    "## 3. Prepare the data for Machine Learning algorithms"
   ]
  },
  {
   "cell_type": "markdown",
   "metadata": {
    "collapsed": true
   },
   "source": [
    "### *3.1 Data Cleaning*"
   ]
  },
  {
   "cell_type": "markdown",
   "metadata": {},
   "source": [
    "Most Machine Learning algorithms cannot work with missing features, so let's create a few functions to take care of them.We compute the median value on the training set and use it to fill the missing values in the training set."
   ]
  },
  {
   "cell_type": "markdown",
   "metadata": {},
   "source": [
    "*Notice*: Because we also have missing values in our dependent varible, we need to clean the train set entirely."
   ]
  },
  {
   "cell_type": "code",
   "execution_count": 252,
   "metadata": {
    "collapsed": true
   },
   "outputs": [],
   "source": [
    "from sklearn.preprocessing import Imputer\n",
    "\n",
    "imputer = Imputer(strategy=\"median\")"
   ]
  },
  {
   "cell_type": "markdown",
   "metadata": {},
   "source": [
    "Since the median can only be computed on numerical attributes, we need to create a copy of the data without the text attributes. In our case, the categorical variable `HIGHDEG` and `REGION` should be removed. "
   ]
  },
  {
   "cell_type": "code",
   "execution_count": 253,
   "metadata": {
    "collapsed": false
   },
   "outputs": [],
   "source": [
    "college_num = college.drop(\"HIGHDEG\", axis=1)\n",
    "college_num = college.drop(\"REGION\", axis=1)"
   ]
  },
  {
   "cell_type": "markdown",
   "metadata": {},
   "source": [
    "Use **fit()** method to add `imputer` instance to the training data. <br>\n",
    "The `Imputer` class helps to impute missing values, either using mean, median or the most frequent value of the row or column where missing values are located."
   ]
  },
  {
   "cell_type": "code",
   "execution_count": 254,
   "metadata": {
    "collapsed": false
   },
   "outputs": [
    {
     "data": {
      "text/plain": [
       "Imputer(axis=0, copy=True, missing_values='NaN', strategy='median', verbose=0)"
      ]
     },
     "execution_count": 254,
     "metadata": {},
     "output_type": "execute_result"
    }
   ],
   "source": [
    "imputer.fit(train_set)"
   ]
  },
  {
   "cell_type": "markdown",
   "metadata": {},
   "source": [
    "Explanation for the following two steps of the imputer:\n",
    "* Compute median of each variable \n",
    "* Store the medians in its *statistics_* instance variable"
   ]
  },
  {
   "cell_type": "code",
   "execution_count": 255,
   "metadata": {
    "collapsed": false
   },
   "outputs": [
    {
     "data": {
      "text/plain": [
       "array([  5.86450000e-01,   9.50000000e+03,   2.79107766e+04,\n",
       "         2.00000000e+00,   5.00000000e+00,   3.88270850e+01,\n",
       "        -8.63375020e+01])"
      ]
     },
     "execution_count": 255,
     "metadata": {},
     "output_type": "execute_result"
    }
   ],
   "source": [
    "imputer.statistics_"
   ]
  },
  {
   "cell_type": "code",
   "execution_count": 256,
   "metadata": {
    "collapsed": false
   },
   "outputs": [
    {
     "data": {
      "text/plain": [
       "array([  5.86450000e-01,   9.50000000e+03,   2.79107766e+04,\n",
       "         2.00000000e+00,   5.00000000e+00,   3.88270850e+01,\n",
       "        -8.63375020e+01])"
      ]
     },
     "execution_count": 256,
     "metadata": {},
     "output_type": "execute_result"
    }
   ],
   "source": [
    "train_set.median().values"
   ]
  },
  {
   "cell_type": "markdown",
   "metadata": {},
   "source": [
    "Now, replace missing values by the computed medians in order to transform the training set:"
   ]
  },
  {
   "cell_type": "code",
   "execution_count": 257,
   "metadata": {
    "collapsed": false
   },
   "outputs": [],
   "source": [
    "X = imputer.transform(train_set)"
   ]
  },
  {
   "cell_type": "markdown",
   "metadata": {},
   "source": [
    "Because the result is a Numpy array with transformed features. We can change the result to a Pandas DataFrame."
   ]
  },
  {
   "cell_type": "code",
   "execution_count": 258,
   "metadata": {
    "collapsed": false
   },
   "outputs": [],
   "source": [
    "college_tr = pd.DataFrame(X, columns=train_set.columns)"
   ]
  },
  {
   "cell_type": "markdown",
   "metadata": {},
   "source": [
    "Let's copy the traning set again so that the original training set is not affected, and then, separate the independent variables and labels so that we do not need to apply the same transformation to the independent variables and dependent variables. "
   ]
  },
  {
   "cell_type": "code",
   "execution_count": 259,
   "metadata": {
    "collapsed": true
   },
   "outputs": [],
   "source": [
    "college = college_tr.drop(\"PCTFLOAN\", axis=1)\n",
    "college_labels = college_tr[\"PCTFLOAN\"].copy()"
   ]
  },
  {
   "cell_type": "markdown",
   "metadata": {},
   "source": [
    "### *3.2 Handling text and categorical attributes*"
   ]
  },
  {
   "cell_type": "markdown",
   "metadata": {},
   "source": [
    "Since the variables HIGHDEG and REGION are categorical attributes, we cannot calculate their medians. Therefore, We can convert these text lables to numbers by using **LabelEncoder** for Machine Learning algorithm. "
   ]
  },
  {
   "cell_type": "markdown",
   "metadata": {},
   "source": [
    "Conversion for the variable **HIGHDEG**:"
   ]
  },
  {
   "cell_type": "code",
   "execution_count": 260,
   "metadata": {
    "collapsed": false
   },
   "outputs": [
    {
     "data": {
      "text/plain": [
       "array([3, 1, 7, ..., 5, 5, 8], dtype=int64)"
      ]
     },
     "execution_count": 260,
     "metadata": {},
     "output_type": "execute_result"
    }
   ],
   "source": [
    "from sklearn.preprocessing import LabelEncoder\n",
    "encoder = LabelEncoder()\n",
    "college_cat1 = college[\"REGION\"]\n",
    "college_cat1_encoded = encoder.fit_transform(college_cat1)\n",
    "college_cat1_encoded"
   ]
  },
  {
   "cell_type": "markdown",
   "metadata": {},
   "source": [
    "Take a look at the mapping that the encoder of variable **HIGHDEG** has applied by using the **classes_** attribute."
   ]
  },
  {
   "cell_type": "code",
   "execution_count": 261,
   "metadata": {
    "collapsed": false
   },
   "outputs": [
    {
     "name": "stdout",
     "output_type": "stream",
     "text": [
      "[ 0.  1.  2.  3.  4.  5.  6.  7.  8.  9.]\n"
     ]
    }
   ],
   "source": [
    "print(encoder.classes_)"
   ]
  },
  {
   "cell_type": "markdown",
   "metadata": {},
   "source": [
    "Conversion for the variable **REGION**:"
   ]
  },
  {
   "cell_type": "code",
   "execution_count": 262,
   "metadata": {
    "collapsed": false
   },
   "outputs": [
    {
     "data": {
      "text/plain": [
       "array([1, 3, 1, ..., 1, 0, 3], dtype=int64)"
      ]
     },
     "execution_count": 262,
     "metadata": {},
     "output_type": "execute_result"
    }
   ],
   "source": [
    "college_cat2= college[\"HIGHDEG\"]\n",
    "college_cat2_encoded = encoder.fit_transform(college_cat2)\n",
    "college_cat2_encoded"
   ]
  },
  {
   "cell_type": "markdown",
   "metadata": {},
   "source": [
    "Take a look at the mapping that the encoder of variable **REGION**."
   ]
  },
  {
   "cell_type": "code",
   "execution_count": 263,
   "metadata": {
    "collapsed": false
   },
   "outputs": [
    {
     "name": "stdout",
     "output_type": "stream",
     "text": [
      "[ 0.  1.  2.  3.  4.]\n"
     ]
    }
   ],
   "source": [
    "print(encoder.classes_)"
   ]
  },
  {
   "cell_type": "markdown",
   "metadata": {},
   "source": [
    "Use **OneHotEncoder** encoder to transform integer categorical values into one-hot vecters.\n",
    "*Note*:reshape the housing_cat1_encoded and housing_cat2_encoded into 2D array since the **fit_transform()** requires a 2D array"
   ]
  },
  {
   "cell_type": "code",
   "execution_count": 264,
   "metadata": {
    "collapsed": false
   },
   "outputs": [
    {
     "data": {
      "text/plain": [
       "<6162x10 sparse matrix of type '<class 'numpy.float64'>'\n",
       "\twith 6162 stored elements in Compressed Sparse Row format>"
      ]
     },
     "execution_count": 264,
     "metadata": {},
     "output_type": "execute_result"
    }
   ],
   "source": [
    "from sklearn.preprocessing import OneHotEncoder\n",
    "encoder = OneHotEncoder()\n",
    "college_cat1_1hot = encoder.fit_transform(college_cat1_encoded.reshape(-1,1))\n",
    "college_cat1_1hot"
   ]
  },
  {
   "cell_type": "code",
   "execution_count": 265,
   "metadata": {
    "collapsed": false
   },
   "outputs": [
    {
     "data": {
      "text/plain": [
       "<6162x5 sparse matrix of type '<class 'numpy.float64'>'\n",
       "\twith 6162 stored elements in Compressed Sparse Row format>"
      ]
     },
     "execution_count": 265,
     "metadata": {},
     "output_type": "execute_result"
    }
   ],
   "source": [
    "from sklearn.preprocessing import OneHotEncoder\n",
    "encoder = OneHotEncoder()\n",
    "college_cat2_1hot = encoder.fit_transform(college_cat2_encoded.reshape(-1,1))\n",
    "college_cat2_1hot"
   ]
  },
  {
   "cell_type": "markdown",
   "metadata": {},
   "source": [
    "The output is a `SciPy sparse matrix` with columns. For each row, the matrix has only one 1 and others are 0. This matrix stores only the location of non-zero elements in order to avoid wasting memory to store the great amount of zeros. <br>\n",
    "Use **toarrary()** method to transform the sparse matrix to a Numpy array. \n"
   ]
  },
  {
   "cell_type": "code",
   "execution_count": 266,
   "metadata": {
    "collapsed": false
   },
   "outputs": [
    {
     "data": {
      "text/plain": [
       "array([[ 0.,  0.,  0., ...,  0.,  0.,  0.],\n",
       "       [ 0.,  1.,  0., ...,  0.,  0.,  0.],\n",
       "       [ 0.,  0.,  0., ...,  1.,  0.,  0.],\n",
       "       ..., \n",
       "       [ 0.,  0.,  0., ...,  0.,  0.,  0.],\n",
       "       [ 0.,  0.,  0., ...,  0.,  0.,  0.],\n",
       "       [ 0.,  0.,  0., ...,  0.,  1.,  0.]])"
      ]
     },
     "execution_count": 266,
     "metadata": {},
     "output_type": "execute_result"
    }
   ],
   "source": [
    "college_cat1_1hot.toarray()"
   ]
  },
  {
   "cell_type": "code",
   "execution_count": 267,
   "metadata": {
    "collapsed": false
   },
   "outputs": [
    {
     "data": {
      "text/plain": [
       "array([[ 0.,  1.,  0.,  0.,  0.],\n",
       "       [ 0.,  0.,  0.,  1.,  0.],\n",
       "       [ 0.,  1.,  0.,  0.,  0.],\n",
       "       ..., \n",
       "       [ 0.,  1.,  0.,  0.,  0.],\n",
       "       [ 1.,  0.,  0.,  0.,  0.],\n",
       "       [ 0.,  0.,  0.,  1.,  0.]])"
      ]
     },
     "execution_count": 267,
     "metadata": {},
     "output_type": "execute_result"
    }
   ],
   "source": [
    "college_cat2_1hot.toarray()"
   ]
  },
  {
   "cell_type": "markdown",
   "metadata": {},
   "source": [
    "The two transformations (from text categories to integer categories, and then from ineger categories to one-hot vectors) can be done in one step by using **LabelBinarizer** class, as shown below:"
   ]
  },
  {
   "cell_type": "code",
   "execution_count": 268,
   "metadata": {
    "collapsed": false
   },
   "outputs": [
    {
     "data": {
      "text/plain": [
       "array([[0, 0, 0, ..., 0, 0, 0],\n",
       "       [0, 1, 0, ..., 0, 0, 0],\n",
       "       [0, 0, 0, ..., 1, 0, 0],\n",
       "       ..., \n",
       "       [0, 0, 0, ..., 0, 0, 0],\n",
       "       [0, 0, 0, ..., 0, 0, 0],\n",
       "       [0, 0, 0, ..., 0, 1, 0]])"
      ]
     },
     "execution_count": 268,
     "metadata": {},
     "output_type": "execute_result"
    }
   ],
   "source": [
    "from sklearn.preprocessing import LabelBinarizer\n",
    "encoder = LabelBinarizer()\n",
    "college_cat1_1hot = encoder.fit_transform(college_cat1)\n",
    "college_cat1_1hot"
   ]
  },
  {
   "cell_type": "code",
   "execution_count": 269,
   "metadata": {
    "collapsed": false
   },
   "outputs": [
    {
     "data": {
      "text/plain": [
       "array([[0, 1, 0, 0, 0],\n",
       "       [0, 0, 0, 1, 0],\n",
       "       [0, 1, 0, 0, 0],\n",
       "       ..., \n",
       "       [0, 1, 0, 0, 0],\n",
       "       [1, 0, 0, 0, 0],\n",
       "       [0, 0, 0, 1, 0]])"
      ]
     },
     "execution_count": 269,
     "metadata": {},
     "output_type": "execute_result"
    }
   ],
   "source": [
    "from sklearn.preprocessing import LabelBinarizer\n",
    "encoder = LabelBinarizer()\n",
    "college_cat2_1hot = encoder.fit_transform(college_cat2)\n",
    "college_cat2_1hot"
   ]
  },
  {
   "cell_type": "markdown",
   "metadata": {},
   "source": [
    "### * 3.4 Feature scaling*"
   ]
  },
  {
   "cell_type": "markdown",
   "metadata": {},
   "source": [
    "With few exceptions, Machine Learning algorithms don't perform well when the input numerical attributes have very different scales.There are two common ways to get all attributes to have the same scale: min-max scaling and standardization."
   ]
  },
  {
   "cell_type": "markdown",
   "metadata": {},
   "source": [
    "### *3.5 Transformation Pipelines*"
   ]
  },
  {
   "cell_type": "markdown",
   "metadata": {},
   "source": [
    "Scikit_Learn provides the Pipeline class to help with sequences of transformations."
   ]
  },
  {
   "cell_type": "code",
   "execution_count": 270,
   "metadata": {
    "collapsed": false
   },
   "outputs": [
    {
     "data": {
      "text/plain": [
       "array([[-0.31677442, -1.23387349, -0.91263209, -0.74241322,  0.70286914,\n",
       "         0.47568867],\n",
       "       [ 1.59809777,  2.81318477,  0.61677746, -1.6647419 ,  1.13686701,\n",
       "         1.20561912],\n",
       "       [ 0.18713932,  0.41886793, -0.91263209,  1.10224415,  0.39704428,\n",
       "        -0.8885581 ],\n",
       "       ..., \n",
       "       [-0.31677442, -0.87718482, -0.91263209,  0.17991546, -1.54229203,\n",
       "         0.46544736],\n",
       "       [ 0.18804636, -0.61278653, -1.67733686,  0.17991546,  0.23389457,\n",
       "         0.22678471],\n",
       "       [ 1.32759688, -0.47476959,  0.61677746,  1.56340849, -0.83118824,\n",
       "        -1.61640004]])"
      ]
     },
     "execution_count": 270,
     "metadata": {},
     "output_type": "execute_result"
    }
   ],
   "source": [
    "from sklearn.pipeline import Pipeline\n",
    "from sklearn.preprocessing import StandardScaler\n",
    "\n",
    "num_pipeline = Pipeline([\n",
    "        ('imputer', Imputer(strategy=\"median\")),\n",
    "        ('std_scaler', StandardScaler()),\n",
    "    ])\n",
    "\n",
    "college = num_pipeline.fit_transform(college)\n",
    "college"
   ]
  },
  {
   "cell_type": "markdown",
   "metadata": {},
   "source": [
    "## 4. Select and train a model"
   ]
  },
  {
   "cell_type": "markdown",
   "metadata": {},
   "source": [
    "Let's first train a Linear Regression model. `college` is a numpy array and we need to convert college into pd.DataFrame to get the iloc function work."
   ]
  },
  {
   "cell_type": "code",
   "execution_count": 271,
   "metadata": {
    "collapsed": false
   },
   "outputs": [],
   "source": [
    "college = pd.DataFrame(college)"
   ]
  },
  {
   "cell_type": "markdown",
   "metadata": {},
   "source": [
    "### * 4.1 Training and evaluating on the training set*"
   ]
  },
  {
   "cell_type": "code",
   "execution_count": 272,
   "metadata": {
    "collapsed": false
   },
   "outputs": [
    {
     "data": {
      "text/plain": [
       "LinearRegression(copy_X=True, fit_intercept=True, n_jobs=1, normalize=False)"
      ]
     },
     "execution_count": 272,
     "metadata": {},
     "output_type": "execute_result"
    }
   ],
   "source": [
    "from sklearn.linear_model import LinearRegression\n",
    "\n",
    "lin_reg = LinearRegression()\n",
    "lin_reg.fit(college, college_labels)"
   ]
  },
  {
   "cell_type": "code",
   "execution_count": 273,
   "metadata": {
    "collapsed": false
   },
   "outputs": [
    {
     "name": "stdout",
     "output_type": "stream",
     "text": [
      "Predictions:\t [ 0.58838722  0.67669509  0.52930589  0.52147398  0.32854239]\n",
      "Labels:\t\t [0.0, 0.20949999999999999, 0.434, 0.67400000000000004, 0.0088999999999999999]\n"
     ]
    }
   ],
   "source": [
    "some_data = college.iloc[:5]\n",
    "some_labels = college_labels.iloc[:5]\n",
    "some_data_prepared = num_pipeline.fit_transform(some_data)\n",
    "print(\"Predictions:\\t\", lin_reg.predict(some_data_prepared))\n",
    "print(\"Labels:\\t\\t\", list(some_labels))"
   ]
  },
  {
   "cell_type": "markdown",
   "metadata": {},
   "source": [
    "It works, although the predictions are not exactly accurate. Let's measure this regression model's RMSE on the whole training set using Scikit_Learn's mean_squared_error functions."
   ]
  },
  {
   "cell_type": "code",
   "execution_count": 274,
   "metadata": {
    "collapsed": false
   },
   "outputs": [
    {
     "data": {
      "text/plain": [
       "0.24897494179336416"
      ]
     },
     "execution_count": 274,
     "metadata": {},
     "output_type": "execute_result"
    }
   ],
   "source": [
    "import numpy as np\n",
    "from sklearn.metrics import mean_squared_error\n",
    "college_predictions = lin_reg.predict(college)\n",
    "lin_mse = mean_squared_error(college_labels, college_predictions)\n",
    "lin_rmse = np.sqrt(lin_mse)\n",
    "lin_rmse"
   ]
  },
  {
   "cell_type": "markdown",
   "metadata": {},
   "source": [
    "The PCTFLOAN ranges from 0 to 2, so a typical prediction error of 0.24897494179336416 is not very satisfying."
   ]
  },
  {
   "cell_type": "markdown",
   "metadata": {},
   "source": [
    "Let’s train a DecisionTreeRegressor: this is a powerful model, capable of finding\n",
    "complex non-linear relationships in the data"
   ]
  },
  {
   "cell_type": "code",
   "execution_count": 275,
   "metadata": {
    "collapsed": false
   },
   "outputs": [
    {
     "data": {
      "text/plain": [
       "DecisionTreeRegressor(criterion='mse', max_depth=None, max_features=None,\n",
       "           max_leaf_nodes=None, min_impurity_split=1e-07,\n",
       "           min_samples_leaf=1, min_samples_split=2,\n",
       "           min_weight_fraction_leaf=0.0, presort=False, random_state=None,\n",
       "           splitter='best')"
      ]
     },
     "execution_count": 275,
     "metadata": {},
     "output_type": "execute_result"
    }
   ],
   "source": [
    "from sklearn.tree import DecisionTreeRegressor\n",
    "\n",
    "tree_reg = DecisionTreeRegressor()\n",
    "tree_reg.fit(college, college_labels)"
   ]
  },
  {
   "cell_type": "markdown",
   "metadata": {},
   "source": [
    "Now the model is trained, let's evaluate it on the training set."
   ]
  },
  {
   "cell_type": "code",
   "execution_count": 276,
   "metadata": {
    "collapsed": false
   },
   "outputs": [
    {
     "data": {
      "text/plain": [
       "1.8570287191493307e-05"
      ]
     },
     "execution_count": 276,
     "metadata": {},
     "output_type": "execute_result"
    }
   ],
   "source": [
    "college_predictions = tree_reg.predict(college)\n",
    "tree_mse = mean_squared_error(college_labels, college_predictions)\n",
    "tree_rmse = np.sqrt(tree_mse)\n",
    "tree_rmse"
   ]
  },
  {
   "cell_type": "markdown",
   "metadata": {},
   "source": [
    "The error term is really small. Could this model really be absolutely perfect? Of course it is much more likely that the model has badly overfit the data. we could fix that by using part of the training set for training, and part for model validation."
   ]
  },
  {
   "cell_type": "markdown",
   "metadata": {},
   "source": [
    "### *4.2 Cross Validation*"
   ]
  },
  {
   "cell_type": "markdown",
   "metadata": {},
   "source": [
    "In order to evaluate the decision tree model, we use Scikit-Learn’s cross-validation feature. \n",
    "The following code performs K-fold cross-validation: it randomly splits the training set into 10 distinct\n",
    "subsets called folds, then it trains and evaluates the decision tree model 10 times,\n",
    "picking a different fold for evaluation every time and training on the other 9 folds.\n",
    "The result is an array containing the 10 evaluation scores."
   ]
  },
  {
   "cell_type": "code",
   "execution_count": 277,
   "metadata": {
    "collapsed": true
   },
   "outputs": [],
   "source": [
    "from sklearn.model_selection import cross_val_score\n",
    "tree_scores = cross_val_score(tree_reg, college, college_labels,\n",
    "                         scoring=\"neg_mean_squared_error\", cv=10)\n",
    "tree_rmse_scores = np.sqrt(-tree_scores)"
   ]
  },
  {
   "cell_type": "markdown",
   "metadata": {},
   "source": [
    "Let's look at the 10 rmse scores obtained using K-fold cross-validation."
   ]
  },
  {
   "cell_type": "code",
   "execution_count": 278,
   "metadata": {
    "collapsed": false
   },
   "outputs": [
    {
     "name": "stdout",
     "output_type": "stream",
     "text": [
      "Scores: [ 0.25709636  0.23947745  0.26847932  0.25605639  0.23760829  0.23789983\n",
      "  0.25829885  0.24785459  0.2391166   0.2587383 ]\n",
      "Mean: 0.250062596992\n",
      "Standard deviation: 0.0105235790513\n"
     ]
    }
   ],
   "source": [
    "def display_scores(scores):\n",
    "    print(\"Scores:\", scores)\n",
    "    print(\"Mean:\", scores.mean())\n",
    "    print(\"Standard deviation:\", scores.std())\n",
    "\n",
    "display_scores(tree_rmse_scores)"
   ]
  },
  {
   "cell_type": "markdown",
   "metadata": {},
   "source": [
    "Now the decision tree doesn’t look as good as it did earlier. In fact, it seems to perform\n",
    "worse than the Linear Regression model!\n",
    "Let’s compute the same scores for the Linear Regression model just to be sure."
   ]
  },
  {
   "cell_type": "code",
   "execution_count": 279,
   "metadata": {
    "collapsed": false
   },
   "outputs": [
    {
     "name": "stdout",
     "output_type": "stream",
     "text": [
      "Scores: [ 0.25274687  0.25036031  0.25334773  0.24702302  0.24972976  0.24726428\n",
      "  0.24522771  0.24510862  0.25390658  0.24711803]\n",
      "Mean: 0.24918329128\n",
      "Standard deviation: 0.00314482762119\n"
     ]
    }
   ],
   "source": [
    "lin_scores = cross_val_score(lin_reg, college, college_labels,\n",
    "                             scoring=\"neg_mean_squared_error\", cv=10)\n",
    "\n",
    "lin_rmse_scores = np.sqrt(-lin_scores)\n",
    "display_scores(lin_rmse_scores)"
   ]
  },
  {
   "cell_type": "markdown",
   "metadata": {},
   "source": [
    "That’s right, the decision tree model is overfitting so badly that it performs worse than\n",
    "the Linear Regression model."
   ]
  },
  {
   "cell_type": "markdown",
   "metadata": {},
   "source": [
    "Let’s try one last model now: the RandomForestRegressor."
   ]
  },
  {
   "cell_type": "code",
   "execution_count": 280,
   "metadata": {
    "collapsed": false
   },
   "outputs": [
    {
     "name": "stdout",
     "output_type": "stream",
     "text": [
      "Scores: [ 0.18327072  0.18884256  0.19993116  0.19750668  0.19383617  0.18553118\n",
      "  0.19004277  0.19086243  0.19102369  0.20151509]\n",
      "Mean: 0.192236244763\n",
      "Standard deviation: 0.00566277909059\n"
     ]
    }
   ],
   "source": [
    "from sklearn.ensemble import RandomForestRegressor\n",
    "forest_reg = RandomForestRegressor()\n",
    "forest_reg.fit(college, college_labels)\n",
    "forest_predictions = forest_reg.predict(college)\n",
    "forest_mse = mean_squared_error(college_labels, forest_predictions)\n",
    "forest_scores = cross_val_score(forest_reg, college, college_labels,\n",
    "                             scoring=\"neg_mean_squared_error\", cv=10)\n",
    "forest_rmse_scores = np.sqrt(-forest_scores)\n",
    "forest_rmse_scores\n",
    "display_scores(forest_rmse_scores)"
   ]
  },
  {
   "cell_type": "markdown",
   "metadata": {},
   "source": [
    "Wow, this is much better, Random Forests look very promising."
   ]
  },
  {
   "cell_type": "markdown",
   "metadata": {},
   "source": [
    "## 5. Fine tune the model "
   ]
  },
  {
   "cell_type": "markdown",
   "metadata": {},
   "source": [
    "### *5.1 Grid Search*"
   ]
  },
  {
   "cell_type": "markdown",
   "metadata": {},
   "source": [
    "Scikit-Learn’s GridSearchCV evaluates all the possible combinations of hyperparameter values,\n",
    "evaluating each combination using cross-validation, to then give us the best combination for the model."
   ]
  },
  {
   "cell_type": "code",
   "execution_count": 281,
   "metadata": {
    "collapsed": false
   },
   "outputs": [
    {
     "data": {
      "text/plain": [
       "GridSearchCV(cv=5, error_score='raise',\n",
       "       estimator=RandomForestRegressor(bootstrap=True, criterion='mse', max_depth=None,\n",
       "           max_features='auto', max_leaf_nodes=None,\n",
       "           min_impurity_split=1e-07, min_samples_leaf=1,\n",
       "           min_samples_split=2, min_weight_fraction_leaf=0.0,\n",
       "           n_estimators=10, n_jobs=1, oob_score=False, random_state=None,\n",
       "           verbose=0, warm_start=False),\n",
       "       fit_params={}, iid=True, n_jobs=1,\n",
       "       param_grid=[{'n_estimators': [3, 10, 30], 'max_features': [2, 3, 4, 5]}, {'bootstrap': [False], 'n_estimators': [3, 10], 'max_features': [2, 3, 4]}],\n",
       "       pre_dispatch='2*n_jobs', refit=True, return_train_score=True,\n",
       "       scoring='neg_mean_squared_error', verbose=0)"
      ]
     },
     "execution_count": 281,
     "metadata": {},
     "output_type": "execute_result"
    }
   ],
   "source": [
    "from sklearn.model_selection import GridSearchCV\n",
    "\n",
    "param_grid = [\n",
    "    {'n_estimators': [3, 10, 30], 'max_features': [2, 3, 4, 5]},\n",
    "    {'bootstrap': [False], 'n_estimators': [3, 10], 'max_features': [2, 3, 4]},\n",
    "  ]\n",
    "\n",
    "forest_reg = RandomForestRegressor()\n",
    "\n",
    "grid_search = GridSearchCV(forest_reg, param_grid, cv=5,\n",
    "                           scoring='neg_mean_squared_error')\n",
    "\n",
    "grid_search.fit(college, college_labels)"
   ]
  },
  {
   "cell_type": "markdown",
   "metadata": {},
   "source": [
    "We can get the best combination of parameters with the code below."
   ]
  },
  {
   "cell_type": "code",
   "execution_count": 282,
   "metadata": {
    "collapsed": false
   },
   "outputs": [
    {
     "data": {
      "text/plain": [
       "{'max_features': 3, 'n_estimators': 30}"
      ]
     },
     "execution_count": 282,
     "metadata": {},
     "output_type": "execute_result"
    }
   ],
   "source": [
    "grid_search.best_params_"
   ]
  },
  {
   "cell_type": "markdown",
   "metadata": {},
   "source": [
    "The best estimator can also be obtained with the follwoing code."
   ]
  },
  {
   "cell_type": "code",
   "execution_count": 283,
   "metadata": {
    "collapsed": false
   },
   "outputs": [
    {
     "data": {
      "text/plain": [
       "RandomForestRegressor(bootstrap=True, criterion='mse', max_depth=None,\n",
       "           max_features=3, max_leaf_nodes=None, min_impurity_split=1e-07,\n",
       "           min_samples_leaf=1, min_samples_split=2,\n",
       "           min_weight_fraction_leaf=0.0, n_estimators=30, n_jobs=1,\n",
       "           oob_score=False, random_state=None, verbose=0, warm_start=False)"
      ]
     },
     "execution_count": 283,
     "metadata": {},
     "output_type": "execute_result"
    }
   ],
   "source": [
    "grid_search.best_estimator_"
   ]
  },
  {
   "cell_type": "markdown",
   "metadata": {},
   "source": [
    "The evaluation scores are also available."
   ]
  },
  {
   "cell_type": "code",
   "execution_count": 284,
   "metadata": {
    "collapsed": false
   },
   "outputs": [
    {
     "name": "stdout",
     "output_type": "stream",
     "text": [
      "0.214469281117 {'max_features': 2, 'n_estimators': 3}\n",
      "0.194849894763 {'max_features': 2, 'n_estimators': 10}\n",
      "0.187813002455 {'max_features': 2, 'n_estimators': 30}\n",
      "0.213050037285 {'max_features': 3, 'n_estimators': 3}\n",
      "0.192351703156 {'max_features': 3, 'n_estimators': 10}\n",
      "0.186686251256 {'max_features': 3, 'n_estimators': 30}\n",
      "0.21148367245 {'max_features': 4, 'n_estimators': 3}\n",
      "0.19098588217 {'max_features': 4, 'n_estimators': 10}\n",
      "0.187805534197 {'max_features': 4, 'n_estimators': 30}\n",
      "0.213093389041 {'max_features': 5, 'n_estimators': 3}\n",
      "0.193671090338 {'max_features': 5, 'n_estimators': 10}\n",
      "0.187621527628 {'max_features': 5, 'n_estimators': 30}\n",
      "0.212389229067 {'bootstrap': False, 'max_features': 2, 'n_estimators': 3}\n",
      "0.194750875782 {'bootstrap': False, 'max_features': 2, 'n_estimators': 10}\n",
      "0.211886210073 {'bootstrap': False, 'max_features': 3, 'n_estimators': 3}\n",
      "0.195861812681 {'bootstrap': False, 'max_features': 3, 'n_estimators': 10}\n",
      "0.214249867854 {'bootstrap': False, 'max_features': 4, 'n_estimators': 3}\n",
      "0.197675212877 {'bootstrap': False, 'max_features': 4, 'n_estimators': 10}\n"
     ]
    }
   ],
   "source": [
    "cvres = grid_search.cv_results_\n",
    "for mean_score, params in zip(cvres[\"mean_test_score\"], cvres[\"params\"]):\n",
    "    print(np.sqrt(-mean_score), params)"
   ]
  },
  {
   "cell_type": "markdown",
   "metadata": {},
   "source": [
    "The best solution is obtained by setting the max_features hyperparameter to 2, and the ` n_estimators` hyperparameter to 30. The RMSE score for this combination is 0.186078525852 , which is slightly better than the score you got earlier using the default hyperparameter values (which was 0.19203)."
   ]
  },
  {
   "cell_type": "markdown",
   "metadata": {},
   "source": [
    "We can use the code below to indicate the relative importance of each attribute for making accurate predictions."
   ]
  },
  {
   "cell_type": "markdown",
   "metadata": {},
   "source": [
    "### *5.2 Analyze the best models and their errors*"
   ]
  },
  {
   "cell_type": "markdown",
   "metadata": {},
   "source": [
    "We could gian good insights on the problem by inspecting the best models. For example, the `RandomFroestRegressor` can indicate the relative importance of each attribute for making accurate pridictions."
   ]
  },
  {
   "cell_type": "code",
   "execution_count": 285,
   "metadata": {
    "collapsed": false
   },
   "outputs": [
    {
     "data": {
      "text/plain": [
       "array([ 0.31532672,  0.22449801,  0.09061773,  0.0378071 ,  0.17304728,\n",
       "        0.15870316])"
      ]
     },
     "execution_count": 285,
     "metadata": {},
     "output_type": "execute_result"
    }
   ],
   "source": [
    "feature_importances = grid_search.best_estimator_.feature_importances_\n",
    "feature_importances"
   ]
  },
  {
   "cell_type": "markdown",
   "metadata": {},
   "source": [
    "We could display these importance socres next to their corresponding attribute names:"
   ]
  },
  {
   "cell_type": "code",
   "execution_count": 286,
   "metadata": {
    "collapsed": false,
    "scrolled": true
   },
   "outputs": [
    {
     "data": {
      "text/plain": [
       "[(0.31532671645391858, 0),\n",
       " (0.22449801291288701, 1),\n",
       " (0.17304728324639776, 4),\n",
       " (0.15870315776695526, 5),\n",
       " (0.090617732819349872, 2),\n",
       " (0.03780709680049147, 3)]"
      ]
     },
     "execution_count": 286,
     "metadata": {},
     "output_type": "execute_result"
    }
   ],
   "source": [
    "cat_one_hot_attribs = list(encoder.classes_)\n",
    "num_attribs = list(college)\n",
    "attributes = num_attribs + cat_one_hot_attribs\n",
    "sorted(zip(feature_importances, attributes), reverse=True)"
   ]
  },
  {
   "cell_type": "markdown",
   "metadata": {},
   "source": [
    "With the information, we may try to dropping some of the less useful features (eg. apparently `REGION` is not very useful)."
   ]
  },
  {
   "cell_type": "markdown",
   "metadata": {},
   "source": [
    "### *5.3 Evaluate the final model on the test set*"
   ]
  },
  {
   "cell_type": "markdown",
   "metadata": {},
   "source": [
    "Firstly we need to deal with missing values in the test set:"
   ]
  },
  {
   "cell_type": "code",
   "execution_count": 288,
   "metadata": {
    "collapsed": false
   },
   "outputs": [],
   "source": [
    "imputer.fit(test_set)\n",
    "X = imputer.transform(test_set)\n",
    "college_te = pd.DataFrame(X, columns=test_set.columns)\n",
    "college_test = college_te.drop(\"PCTFLOAN\", axis=1)\n",
    "college_test_labels = college_te[\"PCTFLOAN\"].copy()"
   ]
  },
  {
   "cell_type": "code",
   "execution_count": 295,
   "metadata": {
    "collapsed": false
   },
   "outputs": [
    {
     "data": {
      "text/plain": [
       "0.24774289291564711"
      ]
     },
     "execution_count": 295,
     "metadata": {},
     "output_type": "execute_result"
    }
   ],
   "source": [
    "final_model = grid_search.best_estimator_\n",
    "\n",
    "college_test_prepared = num_pipeline.transform(X_test)\n",
    "\n",
    "final_predictions = final_model.predict(college_test_prepared)\n",
    "\n",
    "final_mse = mean_squared_error(college_test_labels, final_predictions)\n",
    "final_rmse = np.sqrt(final_mse) \n",
    "final_rmse"
   ]
  },
  {
   "cell_type": "markdown",
   "metadata": {},
   "source": [
    "The end"
   ]
  }
 ],
 "metadata": {
  "anaconda-cloud": {},
  "kernelspec": {
   "display_name": "Python [default]",
   "language": "python",
   "name": "python3"
  },
  "language_info": {
   "codemirror_mode": {
    "name": "ipython",
    "version": 3
   },
   "file_extension": ".py",
   "mimetype": "text/x-python",
   "name": "python",
   "nbconvert_exporter": "python",
   "pygments_lexer": "ipython3",
   "version": "3.5.2"
  }
 },
 "nbformat": 4,
 "nbformat_minor": 2
}
